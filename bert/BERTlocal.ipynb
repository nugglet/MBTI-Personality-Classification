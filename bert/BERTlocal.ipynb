{
 "cells": [
  {
   "cell_type": "code",
   "execution_count": 1,
   "metadata": {
    "id": "LCzc_0GdasaV",
    "outputId": "ebe36eeb-9b70-496e-ad6a-a8ad5558bc53",
    "tags": []
   },
   "outputs": [],
   "source": [
    "#dependencies for BERT\n",
    "# !pip install folium==0.2.1\n",
    "# !pip install tqdm boto3 requests regex sentencepiece sacremoses --quiet\n",
    "# !pip install pytorch-lightning==1.2.8 --quiet\n",
    "# !pip install transformers==4.10.2 --quiet"
   ]
  },
  {
   "cell_type": "code",
   "execution_count": 2,
   "metadata": {
    "id": "ZTCnUJbOBdtK",
    "outputId": "334b043f-befc-45bc-e305-ad38340b6a50",
    "tags": []
   },
   "outputs": [
    {
     "name": "stdout",
     "output_type": "stream",
     "text": [
      "Thu Dec  2 04:23:46 2021       \n",
      "+-----------------------------------------------------------------------------+\n",
      "| NVIDIA-SMI 496.49       Driver Version: 496.49       CUDA Version: 11.5     |\n",
      "|-------------------------------+----------------------+----------------------+\n",
      "| GPU  Name            TCC/WDDM | Bus-Id        Disp.A | Volatile Uncorr. ECC |\n",
      "| Fan  Temp  Perf  Pwr:Usage/Cap|         Memory-Usage | GPU-Util  Compute M. |\n",
      "|                               |                      |               MIG M. |\n",
      "|===============================+======================+======================|\n",
      "|   0  NVIDIA GeForce ... WDDM  | 00000000:0D:00.0  On |                  N/A |\n",
      "|  0%   27C    P8    30W / 320W |   1020MiB / 10240MiB |      0%      Default |\n",
      "|                               |                      |                  N/A |\n",
      "+-------------------------------+----------------------+----------------------+\n",
      "                                                                               \n",
      "+-----------------------------------------------------------------------------+\n",
      "| Processes:                                                                  |\n",
      "|  GPU   GI   CI        PID   Type   Process name                  GPU Memory |\n",
      "|        ID   ID                                                   Usage      |\n",
      "|=============================================================================|\n",
      "|    0   N/A  N/A      1496    C+G   Insufficient Permissions        N/A      |\n",
      "|    0   N/A  N/A      1504    C+G   Insufficient Permissions        N/A      |\n",
      "|    0   N/A  N/A      3916    C+G   Insufficient Permissions        N/A      |\n",
      "|    0   N/A  N/A      4440    C+G   ...pp\\AutodeskDesktopApp.exe    N/A      |\n",
      "|    0   N/A  N/A      5312    C+G   ...bBrowser\\AcWebBrowser.exe    N/A      |\n",
      "|    0   N/A  N/A      7056    C+G   Insufficient Permissions        N/A      |\n",
      "|    0   N/A  N/A      9448    C+G   Insufficient Permissions        N/A      |\n",
      "|    0   N/A  N/A      9828    C+G   Insufficient Permissions        N/A      |\n",
      "|    0   N/A  N/A     10044    C+G   Insufficient Permissions        N/A      |\n",
      "|    0   N/A  N/A     13236    C+G   Insufficient Permissions        N/A      |\n",
      "|    0   N/A  N/A     13628    C+G   Insufficient Permissions        N/A      |\n",
      "|    0   N/A  N/A     13796    C+G   Insufficient Permissions        N/A      |\n",
      "|    0   N/A  N/A     14204    C+G   Insufficient Permissions        N/A      |\n",
      "|    0   N/A  N/A     14644    C+G   ...5n1h2txyewy\\SearchApp.exe    N/A      |\n",
      "|    0   N/A  N/A     15104    C+G   C:\\Windows\\explorer.exe         N/A      |\n",
      "|    0   N/A  N/A     15796    C+G   Insufficient Permissions        N/A      |\n",
      "|    0   N/A  N/A     16476    C+G   Insufficient Permissions        N/A      |\n",
      "|    0   N/A  N/A     16608    C+G   Insufficient Permissions        N/A      |\n",
      "|    0   N/A  N/A     17300    C+G   Insufficient Permissions        N/A      |\n",
      "|    0   N/A  N/A     17356    C+G   ...zilla Firefox\\firefox.exe    N/A      |\n",
      "|    0   N/A  N/A     18596    C+G   Insufficient Permissions        N/A      |\n",
      "|    0   N/A  N/A     18672    C+G   Insufficient Permissions        N/A      |\n",
      "|    0   N/A  N/A     20412    C+G   ...nputApp\\TextInputHost.exe    N/A      |\n",
      "|    0   N/A  N/A     21392    C+G   Insufficient Permissions        N/A      |\n",
      "|    0   N/A  N/A     21688    C+G   ...artMenuExperienceHost.exe    N/A      |\n",
      "|    0   N/A  N/A     22220    C+G   ...zilla Firefox\\firefox.exe    N/A      |\n",
      "|    0   N/A  N/A     22852    C+G   ...y\\ShellExperienceHost.exe    N/A      |\n",
      "|    0   N/A  N/A     23176    C+G   ...5n1h2txyewy\\SearchApp.exe    N/A      |\n",
      "|    0   N/A  N/A     23680    C+G   ...ge\\Application\\msedge.exe    N/A      |\n",
      "|    0   N/A  N/A     25772    C+G   ...bbwe\\Microsoft.Photos.exe    N/A      |\n",
      "|    0   N/A  N/A     27168    C+G   Insufficient Permissions        N/A      |\n",
      "|    0   N/A  N/A     28864    C+G   Insufficient Permissions        N/A      |\n",
      "+-----------------------------------------------------------------------------+\n"
     ]
    }
   ],
   "source": [
    "!nvidia-smi"
   ]
  },
  {
   "cell_type": "code",
   "execution_count": 3,
   "metadata": {
    "id": "bnE9cu1j_5d4",
    "tags": []
   },
   "outputs": [],
   "source": [
    "import pandas as pd\n",
    "import numpy as np\n",
    "import re\n",
    "import gc\n",
    "\n",
    "from tqdm.auto import tqdm\n",
    "\n",
    "import torch\n",
    "import torch.nn as nn\n",
    "from torch.utils.data import Dataset, DataLoader\n",
    "\n",
    "from transformers import BertTokenizerFast as BertTokenizer, BertModel, AdamW, get_linear_schedule_with_warmup\n",
    "\n",
    "import pytorch_lightning as pl\n",
    "from pytorch_lightning.metrics.functional import accuracy, f1, auroc\n",
    "from pytorch_lightning.callbacks import ModelCheckpoint, EarlyStopping\n",
    "from pytorch_lightning.loggers import TensorBoardLogger\n",
    "\n",
    "from sklearn.model_selection import train_test_split\n",
    "from sklearn.metrics import classification_report, multilabel_confusion_matrix\n",
    "\n",
    "import seaborn as sns\n",
    "from pylab import rcParams\n",
    "import matplotlib.pyplot as plt\n",
    "from matplotlib import rc\n"
   ]
  },
  {
   "cell_type": "code",
   "execution_count": 4,
   "metadata": {
    "id": "NRzgiw1TBFxm"
   },
   "outputs": [],
   "source": [
    "from utils import *"
   ]
  },
  {
   "cell_type": "markdown",
   "metadata": {
    "id": "1YK5ol-Yyw5H"
   },
   "source": [
    "# Preprocessing"
   ]
  },
  {
   "cell_type": "code",
   "execution_count": 5,
   "metadata": {
    "id": "Tf37DVYWGWki",
    "tags": []
   },
   "outputs": [],
   "source": [
    "%matplotlib inline\n",
    "%config InlineBackend.figure_format='retina'\n",
    "\n",
    "RANDOM_SEED = 42\n",
    "\n",
    "sns.set(style='whitegrid', palette='muted', font_scale=1.2)\n",
    "HAPPY_COLORS_PALETTE = [\"#01BEFE\", \"#FFDD00\", \"#FF7D00\", \"#FF006D\", \"#ADFF02\", \"#8F00FF\"]\n",
    "sns.set_palette(sns.color_palette(HAPPY_COLORS_PALETTE))\n",
    "rcParams['figure.figsize'] = 12, 8"
   ]
  },
  {
   "cell_type": "code",
   "execution_count": 6,
   "metadata": {
    "id": "bGMDOGZ4wvEW",
    "outputId": "b375f8d7-9a13-4133-bc61-5daff98753d2"
   },
   "outputs": [
    {
     "data": {
      "text/html": [
       "<div>\n",
       "<style scoped>\n",
       "    .dataframe tbody tr th:only-of-type {\n",
       "        vertical-align: middle;\n",
       "    }\n",
       "\n",
       "    .dataframe tbody tr th {\n",
       "        vertical-align: top;\n",
       "    }\n",
       "\n",
       "    .dataframe thead th {\n",
       "        text-align: right;\n",
       "    }\n",
       "</style>\n",
       "<table border=\"1\" class=\"dataframe\">\n",
       "  <thead>\n",
       "    <tr style=\"text-align: right;\">\n",
       "      <th></th>\n",
       "      <th>type</th>\n",
       "      <th>posts</th>\n",
       "      <th>is_I</th>\n",
       "      <th>is_E</th>\n",
       "      <th>is_N</th>\n",
       "      <th>is_S</th>\n",
       "      <th>is_F</th>\n",
       "      <th>is_T</th>\n",
       "      <th>is_J</th>\n",
       "      <th>is_P</th>\n",
       "    </tr>\n",
       "  </thead>\n",
       "  <tbody>\n",
       "    <tr>\n",
       "      <th>0</th>\n",
       "      <td>INFJ</td>\n",
       "      <td>and into moments sportscaster not top ten play...</td>\n",
       "      <td>1</td>\n",
       "      <td>0</td>\n",
       "      <td>1</td>\n",
       "      <td>0</td>\n",
       "      <td>1</td>\n",
       "      <td>0</td>\n",
       "      <td>1</td>\n",
       "      <td>0</td>\n",
       "    </tr>\n",
       "    <tr>\n",
       "      <th>1</th>\n",
       "      <td>ENTP</td>\n",
       "      <td>i m finding the lack of me in these posts very...</td>\n",
       "      <td>0</td>\n",
       "      <td>1</td>\n",
       "      <td>1</td>\n",
       "      <td>0</td>\n",
       "      <td>0</td>\n",
       "      <td>1</td>\n",
       "      <td>0</td>\n",
       "      <td>1</td>\n",
       "    </tr>\n",
       "    <tr>\n",
       "      <th>2</th>\n",
       "      <td>INTP</td>\n",
       "      <td>good one course to which i say i know that s m...</td>\n",
       "      <td>1</td>\n",
       "      <td>0</td>\n",
       "      <td>1</td>\n",
       "      <td>0</td>\n",
       "      <td>0</td>\n",
       "      <td>1</td>\n",
       "      <td>0</td>\n",
       "      <td>1</td>\n",
       "    </tr>\n",
       "    <tr>\n",
       "      <th>3</th>\n",
       "      <td>INTJ</td>\n",
       "      <td>dear into i enjoyed our conversation the other...</td>\n",
       "      <td>1</td>\n",
       "      <td>0</td>\n",
       "      <td>1</td>\n",
       "      <td>0</td>\n",
       "      <td>0</td>\n",
       "      <td>1</td>\n",
       "      <td>1</td>\n",
       "      <td>0</td>\n",
       "    </tr>\n",
       "    <tr>\n",
       "      <th>4</th>\n",
       "      <td>ENTJ</td>\n",
       "      <td>you re fired that s another silly misconceptio...</td>\n",
       "      <td>0</td>\n",
       "      <td>1</td>\n",
       "      <td>1</td>\n",
       "      <td>0</td>\n",
       "      <td>0</td>\n",
       "      <td>1</td>\n",
       "      <td>1</td>\n",
       "      <td>0</td>\n",
       "    </tr>\n",
       "  </tbody>\n",
       "</table>\n",
       "</div>"
      ],
      "text/plain": [
       "   type                                              posts  is_I  is_E  is_N  \\\n",
       "0  INFJ  and into moments sportscaster not top ten play...     1     0     1   \n",
       "1  ENTP  i m finding the lack of me in these posts very...     0     1     1   \n",
       "2  INTP  good one course to which i say i know that s m...     1     0     1   \n",
       "3  INTJ  dear into i enjoyed our conversation the other...     1     0     1   \n",
       "4  ENTJ  you re fired that s another silly misconceptio...     0     1     1   \n",
       "\n",
       "   is_S  is_F  is_T  is_J  is_P  \n",
       "0     0     1     0     1     0  \n",
       "1     0     0     1     0     1  \n",
       "2     0     0     1     0     1  \n",
       "3     0     0     1     1     0  \n",
       "4     0     0     1     1     0  "
      ]
     },
     "execution_count": 6,
     "metadata": {},
     "output_type": "execute_result"
    }
   ],
   "source": [
    "df = pd.read_csv(\"https://raw.githubusercontent.com/zappocalypse/jubilant-meme/main/mbti_3_compressed.csv\")\n",
    "# df = df.iloc[:500 , 1:]\n",
    "df = df[[\"type\", \"spell_corrected\", \"is_I\",\"is_E\",\"is_N\",\"is_S\",\"is_F\",\"is_T\",\"is_J\",\"is_P\"]]\n",
    "df = df.rename({'spell_corrected': 'posts'}, axis=1)\n",
    "df.head()"
   ]
  },
  {
   "cell_type": "code",
   "execution_count": 7,
   "metadata": {
    "id": "3JBVFzwXGATK",
    "outputId": "60cf22ae-5b2a-4100-e94c-ee3db285b947"
   },
   "outputs": [
    {
     "data": {
      "text/plain": [
       "<AxesSubplot:>"
      ]
     },
     "execution_count": 7,
     "metadata": {},
     "output_type": "execute_result"
    },
    {
     "data": {
      "image/png": "[encoded data removed]",
      "text/plain": [
       "<Figure size 864x576 with 1 Axes>"
      ]
     },
     "metadata": {
      "image/png": {
       "height": 470,
       "width": 728
      }
     },
     "output_type": "display_data"
    }
   ],
   "source": [
    "df['type'].value_counts().plot(kind=\"barh\")"
   ]
  },
  {
   "cell_type": "code",
   "execution_count": 8,
   "metadata": {
    "id": "ZrLjw3z3_GOz",
    "outputId": "8786699e-136b-428a-b7c1-8bf660f32cec"
   },
   "outputs": [
    {
     "data": {
      "image/png": "[encoded data removed]",
      "text/plain": [
       "<Figure size 864x576 with 1 Axes>"
      ]
     },
     "metadata": {
      "image/png": {
       "height": 470,
       "width": 719
      }
     },
     "output_type": "display_data"
    }
   ],
   "source": [
    "label_cols = df.columns.tolist()[2:]\n",
    "df[label_cols].sum().sort_values().plot(kind=\"barh\");"
   ]
  },
  {
   "cell_type": "code",
   "execution_count": 9,
   "metadata": {
    "id": "r-9PiX2cGHDB",
    "outputId": "b77a5b14-cef4-422e-9b88-b36c4e108dab"
   },
   "outputs": [
    {
     "data": {
      "text/html": [
       "<div>\n",
       "<style scoped>\n",
       "    .dataframe tbody tr th:only-of-type {\n",
       "        vertical-align: middle;\n",
       "    }\n",
       "\n",
       "    .dataframe tbody tr th {\n",
       "        vertical-align: top;\n",
       "    }\n",
       "\n",
       "    .dataframe thead th {\n",
       "        text-align: right;\n",
       "    }\n",
       "</style>\n",
       "<table border=\"1\" class=\"dataframe\">\n",
       "  <thead>\n",
       "    <tr style=\"text-align: right;\">\n",
       "      <th></th>\n",
       "      <th>type</th>\n",
       "      <th>is_I</th>\n",
       "      <th>is_N</th>\n",
       "      <th>is_T</th>\n",
       "      <th>is_J</th>\n",
       "      <th>cleaned_posts</th>\n",
       "    </tr>\n",
       "  </thead>\n",
       "  <tbody>\n",
       "    <tr>\n",
       "      <th>0</th>\n",
       "      <td>INFJ</td>\n",
       "      <td>1</td>\n",
       "      <td>1</td>\n",
       "      <td>0</td>\n",
       "      <td>1</td>\n",
       "      <td>and into moments sportscaster not top ten play...</td>\n",
       "    </tr>\n",
       "    <tr>\n",
       "      <th>1</th>\n",
       "      <td>ENTP</td>\n",
       "      <td>0</td>\n",
       "      <td>1</td>\n",
       "      <td>1</td>\n",
       "      <td>0</td>\n",
       "      <td>i m finding the lack of me in these posts very...</td>\n",
       "    </tr>\n",
       "    <tr>\n",
       "      <th>2</th>\n",
       "      <td>INTP</td>\n",
       "      <td>1</td>\n",
       "      <td>1</td>\n",
       "      <td>1</td>\n",
       "      <td>0</td>\n",
       "      <td>good one course to which i say i know that s m...</td>\n",
       "    </tr>\n",
       "    <tr>\n",
       "      <th>3</th>\n",
       "      <td>INTJ</td>\n",
       "      <td>1</td>\n",
       "      <td>1</td>\n",
       "      <td>1</td>\n",
       "      <td>1</td>\n",
       "      <td>dear into i enjoyed our conversation the other...</td>\n",
       "    </tr>\n",
       "    <tr>\n",
       "      <th>4</th>\n",
       "      <td>ENTJ</td>\n",
       "      <td>0</td>\n",
       "      <td>1</td>\n",
       "      <td>1</td>\n",
       "      <td>1</td>\n",
       "      <td>you re fired that s another silly misconceptio...</td>\n",
       "    </tr>\n",
       "  </tbody>\n",
       "</table>\n",
       "</div>"
      ],
      "text/plain": [
       "   type  is_I  is_N  is_T  is_J  \\\n",
       "0  INFJ     1     1     0     1   \n",
       "1  ENTP     0     1     1     0   \n",
       "2  INTP     1     1     1     0   \n",
       "3  INTJ     1     1     1     1   \n",
       "4  ENTJ     0     1     1     1   \n",
       "\n",
       "                                       cleaned_posts  \n",
       "0  and into moments sportscaster not top ten play...  \n",
       "1  i m finding the lack of me in these posts very...  \n",
       "2  good one course to which i say i know that s m...  \n",
       "3  dear into i enjoyed our conversation the other...  \n",
       "4  you re fired that s another silly misconceptio...  "
      ]
     },
     "execution_count": 9,
     "metadata": {},
     "output_type": "execute_result"
    }
   ],
   "source": [
    "df['cleaned_posts'], post_length = clear_text(df)\n",
    "df.drop(columns=['is_E', 'is_S', 'is_F', 'is_P', 'posts'], inplace=True)\n",
    "\n",
    "df.head()"
   ]
  },
  {
   "cell_type": "code",
   "execution_count": 10,
   "metadata": {
    "id": "LAmHn3jAKN3W",
    "outputId": "6cb6c1b9-d152-4b16-c501-db63f03c5ae6"
   },
   "outputs": [
    {
     "name": "stdout",
     "output_type": "stream",
     "text": [
      "0.7697628458498024 0.7691125624279678\n",
      "                                          cleaned_posts  is_I  is_N  is_T  \\\n",
      "7585  location change whoop colorado you re crazy so...     1     1     0   \n",
      "7430  maybe you are into and fi would fit you try it...     1     1     1   \n",
      "3745  note you re not alone i m a singer and i love ...     1     0     1   \n",
      "2599  i would gently prod for more information next ...     1     1     1   \n",
      "8035  i bet you it was lucid too bach s cello suite ...     1     1     1   \n",
      "\n",
      "      is_J  \n",
      "7585     0  \n",
      "7430     0  \n",
      "3745     1  \n",
      "2599     0  \n",
      "8035     1  \n",
      "                                          cleaned_posts  is_I  is_N  is_T  \\\n",
      "7330  i m extremely creative writing cooling music o...     1     1     1   \n",
      "4409  ethical intuitive extratim wikisocion this is ...     0     1     0   \n",
      "2839  you know i ve never dated and ist may not even...     0     1     0   \n",
      "7274  dunno if this will contribute to the discussio...     0     1     1   \n",
      "1112  to answer your question yes people are capable...     0     0     1   \n",
      "\n",
      "      is_J  \n",
      "7330     0  \n",
      "4409     1  \n",
      "2839     0  \n",
      "7274     0  \n",
      "1112     1  \n"
     ]
    }
   ],
   "source": [
    "X_train, X_test, y_train, y_test = train_test_split(df.cleaned_posts, df.iloc[:,1:5], random_state=2021, \n",
    "                                                    test_size=0.3, stratify=df.type)\n",
    "train_df = pd.concat([X_train, y_train], axis=1)\n",
    "val_df = pd.concat([X_test, y_test], axis=1)\n",
    "\n",
    "print(train_df.is_I.sum()/train_df.shape[0], val_df.is_I.sum()/val_df.shape[0] )\n",
    "\n",
    "print(train_df.head())\n",
    "print(val_df.head())"
   ]
  },
  {
   "cell_type": "markdown",
   "metadata": {
    "id": "-L3VVSM0Gnmw"
   },
   "source": [
    "# Using PyTorch\n",
    "Basic Implementation\n",
    "https://curiousily.com/posts/multi-label-text-classification-with-bert-and-pytorch-lightning/\n"
   ]
  },
  {
   "cell_type": "markdown",
   "metadata": {
    "id": "MVPAOPXeGqjp"
   },
   "source": [
    "## Tokenization"
   ]
  },
  {
   "cell_type": "code",
   "execution_count": 11,
   "metadata": {},
   "outputs": [],
   "source": [
    "BERT_MODEL_NAME = 'bert-base-cased'\n",
    "tokenizer = BertTokenizer.from_pretrained(BERT_MODEL_NAME)\n",
    "label_cols = ['is_I','is_N', 'is_T', 'is_J']"
   ]
  },
  {
   "cell_type": "markdown",
   "metadata": {
    "id": "ohA1H6LiOpDQ"
   },
   "source": [
    "### Testing Hyperparameters"
   ]
  },
  {
   "cell_type": "code",
   "execution_count": 12,
   "metadata": {
    "id": "fzHxB2ZWG_Zd",
    "outputId": "998ac945-d201-4c06-eb70-17f623f2af45"
   },
   "outputs": [],
   "source": [
    "# sample_row = df.iloc[16]\n",
    "# sample_comment = sample_row.cleaned_posts\n",
    "# sample_labels = sample_row.iloc[:-1]\n",
    "# print(sample_comment)\n",
    "# print(sample_labels.to_dict())"
   ]
  },
  {
   "cell_type": "code",
   "execution_count": 13,
   "metadata": {
    "id": "C9qlv4WTJcFX",
    "outputId": "a06aeeb7-7b32-444f-b219-9485732bc0d6"
   },
   "outputs": [],
   "source": [
    "max_len = 512\n",
    "# # Note: maxlen supported by BERT is 512, which means over-truncating much of the data\n",
    "# # consider using Longformer instead\n",
    "\n",
    "# encoding = tokenizer.encode_plus(\n",
    "#   sample_comment,\n",
    "#   add_special_tokens=True,\n",
    "#   max_length=max_len,\n",
    "#   return_token_type_ids=False,\n",
    "#   padding=\"max_length\",\n",
    "#   return_attention_mask=True,\n",
    "#   return_tensors='pt',\n",
    "# )\n",
    "\n",
    "# token_counts = []\n",
    "\n",
    "# for _, row in train_df.iterrows():\n",
    "#   # specify max no. of tokens in encoding (max is 512)\n",
    "#     token_count = len(tokenizer.encode(\n",
    "#     row[\"cleaned_posts\"], \n",
    "#     max_length=max_len, \n",
    "#     truncation=True\n",
    "#     ))\n",
    "#     token_counts.append(token_count)\n",
    "\n",
    "# print(encoding.keys())\n",
    "# print(encoding[\"input_ids\"].shape, encoding[\"attention_mask\"].shape)"
   ]
  },
  {
   "cell_type": "code",
   "execution_count": 14,
   "metadata": {
    "id": "Z29I6CheJ21j",
    "outputId": "2776c368-a690-4157-e40e-687c3d11b16b"
   },
   "outputs": [],
   "source": [
    "# sns.histplot(token_counts)\n",
    "# plt.xlim([0, max_len]);"
   ]
  },
  {
   "cell_type": "markdown",
   "metadata": {
    "id": "y5E7Kyt6Ot5x"
   },
   "source": [
    "### Tokenize Datasets"
   ]
  },
  {
   "cell_type": "code",
   "execution_count": 15,
   "metadata": {
    "id": "B-DIRwb1Oecp",
    "outputId": "79e8644b-1f47-492c-fe52-5c23c1cd2e72"
   },
   "outputs": [
    {
     "name": "stdout",
     "output_type": "stream",
     "text": [
      "tensor([1., 1., 0., 0.]) torch.Size([512])\n"
     ]
    }
   ],
   "source": [
    "label_cols = ['is_I', 'is_N', 'is_T', 'is_J']\n",
    "\n",
    "train_dataset = MBTIDataset(\n",
    "    label_cols,\n",
    "    train_df,\n",
    "    tokenizer,\n",
    "    max_token_len=max_len,\n",
    ")\n",
    "\n",
    "sample_item = train_dataset[0]\n",
    "# print(sample_item.keys(), sample_item['cleaned_posts'])\n",
    "print(sample_item['labels'], sample_item['input_ids'].shape)\n"
   ]
  },
  {
   "cell_type": "code",
   "execution_count": 16,
   "metadata": {
    "id": "UzQ8KHesRMj3",
    "outputId": "afaad60d-dbfc-4b0a-c716-77ade1ded0e7"
   },
   "outputs": [],
   "source": [
    "# sample_batch = next(iter(DataLoader(train_dataset, batch_size=8, num_workers=2)))\n",
    "# print(sample_batch[\"input_ids\"].shape, sample_batch[\"attention_mask\"].shape)\n",
    "\n",
    "# output = bert_model(sample_batch[\"input_ids\"], sample_batch[\"attention_mask\"])\n",
    "# print(output.last_hidden_state.shape, output.pooler_output.shape)\n",
    "# print(bert_model.config.hidden_size)"
   ]
  },
  {
   "cell_type": "code",
   "execution_count": 17,
   "metadata": {},
   "outputs": [
    {
     "name": "stderr",
     "output_type": "stream",
     "text": [
      "Some weights of the model checkpoint at bert-base-cased were not used when initializing BertModel: ['cls.seq_relationship.weight', 'cls.seq_relationship.bias', 'cls.predictions.transform.LayerNorm.bias', 'cls.predictions.transform.dense.bias', 'cls.predictions.bias', 'cls.predictions.transform.dense.weight', 'cls.predictions.transform.LayerNorm.weight', 'cls.predictions.decoder.weight']\n",
      "- This IS expected if you are initializing BertModel from the checkpoint of a model trained on another task or with another architecture (e.g. initializing a BertForSequenceClassification model from a BertForPreTraining model).\n",
      "- This IS NOT expected if you are initializing BertModel from the checkpoint of a model that you expect to be exactly identical (initializing a BertForSequenceClassification model from a BertForSequenceClassification model).\n"
     ]
    }
   ],
   "source": [
    "bert_model = BertModel.from_pretrained(BERT_MODEL_NAME, return_dict=True)"
   ]
  },
  {
   "cell_type": "code",
   "execution_count": 18,
   "metadata": {
    "id": "NaLAHIx-S12-"
   },
   "outputs": [],
   "source": [
    "N_EPOCHS = 10\n",
    "BATCH_SIZE = 8\n",
    "label_cols = ['is_I', 'is_N', 'is_T', 'is_J']\n",
    "max_len = 512\n",
    "\n",
    "data_module = MBTIDataModule(\n",
    "  train_df,\n",
    "  val_df,\n",
    "  tokenizer,\n",
    "  label_cols,\n",
    "  batch_size=BATCH_SIZE,\n",
    "  max_token_len=max_len\n",
    ")"
   ]
  },
  {
   "cell_type": "markdown",
   "metadata": {
    "id": "an3O4XjNTgOk"
   },
   "source": [
    "# Model"
   ]
  },
  {
   "cell_type": "code",
   "execution_count": 19,
   "metadata": {
    "id": "js4biCk0yWKU",
    "outputId": "5f97a990-fb92-4f06-8c26-0b82dae625b6"
   },
   "outputs": [
    {
     "name": "stderr",
     "output_type": "stream",
     "text": [
      "Some weights of the model checkpoint at bert-base-cased were not used when initializing BertModel: ['cls.seq_relationship.weight', 'cls.seq_relationship.bias', 'cls.predictions.transform.LayerNorm.bias', 'cls.predictions.transform.dense.bias', 'cls.predictions.bias', 'cls.predictions.transform.dense.weight', 'cls.predictions.transform.LayerNorm.weight', 'cls.predictions.decoder.weight']\n",
      "- This IS expected if you are initializing BertModel from the checkpoint of a model trained on another task or with another architecture (e.g. initializing a BertForSequenceClassification model from a BertForPreTraining model).\n",
      "- This IS NOT expected if you are initializing BertModel from the checkpoint of a model that you expect to be exactly identical (initializing a BertForSequenceClassification model from a BertForSequenceClassification model).\n"
     ]
    }
   ],
   "source": [
    "# create model instance\n",
    "\n",
    "steps_per_epoch=len(train_df) // BATCH_SIZE\n",
    "total_training_steps = steps_per_epoch * N_EPOCHS\n",
    "\n",
    "# 20% for warmup\n",
    "warmup_steps = total_training_steps // 5\n",
    "warmup_steps, total_training_steps\n",
    "\n",
    "model = MBTITagger(\n",
    "  n_classes=len(label_cols),\n",
    "  n_warmup_steps=warmup_steps,\n",
    "  n_training_steps=total_training_steps \n",
    ")"
   ]
  },
  {
   "cell_type": "code",
   "execution_count": 20,
   "metadata": {
    "id": "YxfOUI7CTtX5"
   },
   "outputs": [],
   "source": [
    "# optimizer changes and optimizes learning rate during training\n",
    "optimizer = AdamW(params=model.parameters(), lr=0.001)\n",
    "\n",
    "warmup_steps = 20\n",
    "total_training_steps = 100\n",
    "\n",
    "scheduler = get_linear_schedule_with_warmup(\n",
    "  optimizer, \n",
    "  num_warmup_steps=warmup_steps,\n",
    "  num_training_steps=total_training_steps\n",
    ")\n",
    "\n",
    "\n",
    "learning_rate_history = []\n",
    "\n",
    "for step in range(total_training_steps):\n",
    "    optimizer.step()\n",
    "    scheduler.step()\n",
    "    learning_rate_history.append(optimizer.param_groups[0]['lr'])"
   ]
  },
  {
   "cell_type": "code",
   "execution_count": 21,
   "metadata": {
    "id": "_X6b6fdRxsXY",
    "outputId": "2288185f-1cc0-4b81-b06a-471b84ca0642"
   },
   "outputs": [],
   "source": [
    "# plt.plot(learning_rate_history, label=\"learning rate\")\n",
    "# plt.axvline(x=warmup_steps, color=\"red\", linestyle=(0, (5, 10)), label=\"warmup end\")\n",
    "# plt.legend()\n",
    "# plt.xlabel(\"Step\")\n",
    "# plt.ylabel(\"Learning rate\")\n",
    "# plt.tight_layout();"
   ]
  },
  {
   "cell_type": "markdown",
   "metadata": {
    "id": "LkPkBrRhvAWR"
   },
   "source": [
    "# Training"
   ]
  },
  {
   "cell_type": "code",
   "execution_count": 22,
   "metadata": {
    "id": "4f_lkHXsu_JY"
   },
   "outputs": [
    {
     "name": "stderr",
     "output_type": "stream",
     "text": [
      "Invalid switch - \"\".\n",
      "Invalid switch - \"\".\n"
     ]
    }
   ],
   "source": [
    "!rd /s /q \"lightning_logs/\"\n",
    "!rd /s /q \"checkpoints/\""
   ]
  },
  {
   "cell_type": "code",
   "execution_count": 23,
   "metadata": {
    "id": "mqsuaxU_uxyD",
    "outputId": "4f233268-fb9f-48dd-bfa7-2c924a086ec9"
   },
   "outputs": [
    {
     "data": {
      "text/plain": [
       "Reusing TensorBoard on port 6006 (pid 17316), started 0:14:01 ago. (Use '!kill 17316' to kill it.)"
      ]
     },
     "metadata": {},
     "output_type": "display_data"
    },
    {
     "data": {
      "text/html": [
       "\n",
       "      <iframe id=\"tensorboard-frame-90746c768622e52\" width=\"100%\" height=\"800\" frameborder=\"0\">\n",
       "      </iframe>\n",
       "      <script>\n",
       "        (function() {\n",
       "          const frame = document.getElementById(\"tensorboard-frame-90746c768622e52\");\n",
       "          const url = new URL(\"/\", window.location);\n",
       "          const port = 6006;\n",
       "          if (port) {\n",
       "            url.port = port;\n",
       "          }\n",
       "          frame.src = url;\n",
       "        })();\n",
       "      </script>\n",
       "    "
      ],
      "text/plain": [
       "<IPython.core.display.HTML object>"
      ]
     },
     "metadata": {},
     "output_type": "display_data"
    }
   ],
   "source": [
    "%load_ext tensorboard\n",
    "%tensorboard --logdir ./lightning_logs"
   ]
  },
  {
   "cell_type": "code",
   "execution_count": 24,
   "metadata": {
    "id": "LRFsSp53vFyv"
   },
   "outputs": [],
   "source": [
    "# Build standard pipeline\n",
    "checkpoint_callback = ModelCheckpoint(\n",
    "  dirpath=\"checkpoints\",\n",
    "  filename=\"best-checkpoint\",\n",
    "  save_top_k=1,\n",
    "  verbose=True,\n",
    "  monitor=\"val_loss\",\n",
    "  mode=\"min\"\n",
    ")\n",
    "\n",
    "\n",
    "# log in dashboard\n",
    "logger = TensorBoardLogger(\"lightning_logs\", name=\"mbti-classification\")\n",
    "\n",
    "# early stopping \n",
    "early_stopping_callback = EarlyStopping(monitor='val_loss', patience=3)"
   ]
  },
  {
   "cell_type": "code",
   "execution_count": 25,
   "metadata": {
    "id": "Q2o0dRBbveZK",
    "outputId": "468264b9-0991-493f-96ab-faa86cf55e0e"
   },
   "outputs": [
    {
     "name": "stderr",
     "output_type": "stream",
     "text": [
      "GPU available: True, used: True\n",
      "TPU available: False, using: 0 TPU cores\n"
     ]
    }
   ],
   "source": [
    "torch.cuda.empty_cache()\n",
    "gc.collect()\n",
    "torch.cuda.memory_summary(device=None, abbreviated=False)\n",
    "\n",
    "import os\n",
    "os.environ[\"TOKENIZERS_PARALLELISM\"] = \"false\"\n",
    "\n",
    "N_EPOCHS = 50\n",
    "\n",
    "# train\n",
    "trainer = pl.Trainer(\n",
    "  logger=logger,\n",
    "  checkpoint_callback=checkpoint_callback,\n",
    "  callbacks=[early_stopping_callback],\n",
    "  max_epochs=N_EPOCHS,\n",
    "  gpus=1,\n",
    "  progress_bar_refresh_rate=10,\n",
    "  accumulate_grad_batches=10\n",
    ")\n"
   ]
  },
  {
   "cell_type": "code",
   "execution_count": 26,
   "metadata": {},
   "outputs": [
    {
     "name": "stderr",
     "output_type": "stream",
     "text": [
      "LOCAL_RANK: 0 - CUDA_VISIBLE_DEVICES: [0]\n",
      "\n",
      "  | Name       | Type      | Params\n",
      "-----------------------------------------\n",
      "0 | bert       | BertModel | 108 M \n",
      "1 | classifier | Linear    | 3.1 K \n",
      "2 | criterion  | BCELoss   | 0     \n",
      "-----------------------------------------\n",
      "108 M     Trainable params\n",
      "0         Non-trainable params\n",
      "108 M     Total params\n",
      "433.253   Total estimated model params size (MB)\n"
     ]
    },
    {
     "data": {
      "application/vnd.jupyter.widget-view+json": {
       "model_id": "edc86e4fbe5a469cae19977b42bd183c",
       "version_major": 2,
       "version_minor": 0
      },
      "text/plain": [
       "Validation sanity check: 0it [00:00, ?it/s]"
      ]
     },
     "metadata": {},
     "output_type": "display_data"
    },
    {
     "data": {
      "application/vnd.jupyter.widget-view+json": {
       "model_id": "f3dd607d7b194330b0bcc8346c4b2dc8",
       "version_major": 2,
       "version_minor": 0
      },
      "text/plain": [
       "Training: 0it [00:00, ?it/s]"
      ]
     },
     "metadata": {},
     "output_type": "display_data"
    },
    {
     "name": "stderr",
     "output_type": "stream",
     "text": [
      "C:\\Users\\Miles\\anaconda3\\envs\\pytorch\\lib\\site-packages\\pytorch_lightning\\utilities\\distributed.py:68: UserWarning: `pos_label` automatically set 1.\n",
      "  warnings.warn(*args, **kwargs)\n"
     ]
    },
    {
     "data": {
      "application/vnd.jupyter.widget-view+json": {
       "model_id": "",
       "version_major": 2,
       "version_minor": 0
      },
      "text/plain": [
       "Validating: 0it [00:00, ?it/s]"
      ]
     },
     "metadata": {},
     "output_type": "display_data"
    },
    {
     "name": "stderr",
     "output_type": "stream",
     "text": [
      "Epoch 0, global step 75: val_loss reached 0.67740 (best 0.67740), saving model to \"C:\\Users\\Miles\\Documents\\CDS\\checkpoints\\best-checkpoint.ckpt\" as top 1\n"
     ]
    },
    {
     "data": {
      "application/vnd.jupyter.widget-view+json": {
       "model_id": "",
       "version_major": 2,
       "version_minor": 0
      },
      "text/plain": [
       "Validating: 0it [00:00, ?it/s]"
      ]
     },
     "metadata": {},
     "output_type": "display_data"
    },
    {
     "name": "stderr",
     "output_type": "stream",
     "text": [
      "Epoch 1, global step 151: val_loss reached 0.57721 (best 0.57721), saving model to \"C:\\Users\\Miles\\Documents\\CDS\\checkpoints\\best-checkpoint.ckpt\" as top 1\n"
     ]
    },
    {
     "data": {
      "application/vnd.jupyter.widget-view+json": {
       "model_id": "",
       "version_major": 2,
       "version_minor": 0
      },
      "text/plain": [
       "Validating: 0it [00:00, ?it/s]"
      ]
     },
     "metadata": {},
     "output_type": "display_data"
    },
    {
     "name": "stderr",
     "output_type": "stream",
     "text": [
      "Epoch 2, global step 227: val_loss reached 0.56917 (best 0.56917), saving model to \"C:\\Users\\Miles\\Documents\\CDS\\checkpoints\\best-checkpoint.ckpt\" as top 1\n"
     ]
    },
    {
     "data": {
      "application/vnd.jupyter.widget-view+json": {
       "model_id": "",
       "version_major": 2,
       "version_minor": 0
      },
      "text/plain": [
       "Validating: 0it [00:00, ?it/s]"
      ]
     },
     "metadata": {},
     "output_type": "display_data"
    },
    {
     "name": "stderr",
     "output_type": "stream",
     "text": [
      "Epoch 3, global step 303: val_loss reached 0.56254 (best 0.56254), saving model to \"C:\\Users\\Miles\\Documents\\CDS\\checkpoints\\best-checkpoint.ckpt\" as top 1\n"
     ]
    },
    {
     "data": {
      "application/vnd.jupyter.widget-view+json": {
       "model_id": "",
       "version_major": 2,
       "version_minor": 0
      },
      "text/plain": [
       "Validating: 0it [00:00, ?it/s]"
      ]
     },
     "metadata": {},
     "output_type": "display_data"
    },
    {
     "name": "stderr",
     "output_type": "stream",
     "text": [
      "Epoch 4, global step 379: val_loss reached 0.52402 (best 0.52402), saving model to \"C:\\Users\\Miles\\Documents\\CDS\\checkpoints\\best-checkpoint.ckpt\" as top 1\n"
     ]
    },
    {
     "data": {
      "application/vnd.jupyter.widget-view+json": {
       "model_id": "",
       "version_major": 2,
       "version_minor": 0
      },
      "text/plain": [
       "Validating: 0it [00:00, ?it/s]"
      ]
     },
     "metadata": {},
     "output_type": "display_data"
    },
    {
     "name": "stderr",
     "output_type": "stream",
     "text": [
      "Epoch 5, global step 455: val_loss reached 0.49892 (best 0.49892), saving model to \"C:\\Users\\Miles\\Documents\\CDS\\checkpoints\\best-checkpoint.ckpt\" as top 1\n"
     ]
    },
    {
     "data": {
      "application/vnd.jupyter.widget-view+json": {
       "model_id": "",
       "version_major": 2,
       "version_minor": 0
      },
      "text/plain": [
       "Validating: 0it [00:00, ?it/s]"
      ]
     },
     "metadata": {},
     "output_type": "display_data"
    },
    {
     "name": "stderr",
     "output_type": "stream",
     "text": [
      "Epoch 6, step 531: val_loss was not in top 1\n"
     ]
    },
    {
     "data": {
      "application/vnd.jupyter.widget-view+json": {
       "model_id": "",
       "version_major": 2,
       "version_minor": 0
      },
      "text/plain": [
       "Validating: 0it [00:00, ?it/s]"
      ]
     },
     "metadata": {},
     "output_type": "display_data"
    },
    {
     "name": "stderr",
     "output_type": "stream",
     "text": [
      "Epoch 7, global step 607: val_loss reached 0.47758 (best 0.47758), saving model to \"C:\\Users\\Miles\\Documents\\CDS\\checkpoints\\best-checkpoint.ckpt\" as top 1\n"
     ]
    },
    {
     "data": {
      "application/vnd.jupyter.widget-view+json": {
       "model_id": "",
       "version_major": 2,
       "version_minor": 0
      },
      "text/plain": [
       "Validating: 0it [00:00, ?it/s]"
      ]
     },
     "metadata": {},
     "output_type": "display_data"
    },
    {
     "name": "stderr",
     "output_type": "stream",
     "text": [
      "Epoch 8, step 683: val_loss was not in top 1\n"
     ]
    },
    {
     "data": {
      "application/vnd.jupyter.widget-view+json": {
       "model_id": "",
       "version_major": 2,
       "version_minor": 0
      },
      "text/plain": [
       "Validating: 0it [00:00, ?it/s]"
      ]
     },
     "metadata": {},
     "output_type": "display_data"
    },
    {
     "name": "stderr",
     "output_type": "stream",
     "text": [
      "Epoch 9, global step 759: val_loss reached 0.46858 (best 0.46858), saving model to \"C:\\Users\\Miles\\Documents\\CDS\\checkpoints\\best-checkpoint.ckpt\" as top 1\n"
     ]
    },
    {
     "data": {
      "application/vnd.jupyter.widget-view+json": {
       "model_id": "",
       "version_major": 2,
       "version_minor": 0
      },
      "text/plain": [
       "Validating: 0it [00:00, ?it/s]"
      ]
     },
     "metadata": {},
     "output_type": "display_data"
    },
    {
     "name": "stderr",
     "output_type": "stream",
     "text": [
      "Epoch 10, step 835: val_loss was not in top 1\n"
     ]
    },
    {
     "data": {
      "application/vnd.jupyter.widget-view+json": {
       "model_id": "",
       "version_major": 2,
       "version_minor": 0
      },
      "text/plain": [
       "Validating: 0it [00:00, ?it/s]"
      ]
     },
     "metadata": {},
     "output_type": "display_data"
    },
    {
     "name": "stderr",
     "output_type": "stream",
     "text": [
      "Epoch 11, step 911: val_loss was not in top 1\n"
     ]
    },
    {
     "data": {
      "application/vnd.jupyter.widget-view+json": {
       "model_id": "",
       "version_major": 2,
       "version_minor": 0
      },
      "text/plain": [
       "Validating: 0it [00:00, ?it/s]"
      ]
     },
     "metadata": {},
     "output_type": "display_data"
    },
    {
     "name": "stderr",
     "output_type": "stream",
     "text": [
      "Epoch 12, step 987: val_loss was not in top 1\n"
     ]
    },
    {
     "data": {
      "text/plain": [
       "1"
      ]
     },
     "execution_count": 26,
     "metadata": {},
     "output_type": "execute_result"
    }
   ],
   "source": [
    "trainer.fit(model, data_module)"
   ]
  },
  {
   "cell_type": "code",
   "execution_count": 27,
   "metadata": {
    "id": "28gKsWYQvmCj"
   },
   "outputs": [
    {
     "name": "stderr",
     "output_type": "stream",
     "text": [
      "LOCAL_RANK: 0 - CUDA_VISIBLE_DEVICES: [0]\n"
     ]
    },
    {
     "data": {
      "application/vnd.jupyter.widget-view+json": {
       "model_id": "3f83c7033daf4f26bc3db89fe2bd98f0",
       "version_major": 2,
       "version_minor": 0
      },
      "text/plain": [
       "Testing: 0it [00:00, ?it/s]"
      ]
     },
     "metadata": {},
     "output_type": "display_data"
    },
    {
     "name": "stdout",
     "output_type": "stream",
     "text": [
      "--------------------------------------------------------------------------------\n",
      "DATALOADER:0 TEST RESULTS\n",
      "{'test_loss': 0.46857842803001404}\n",
      "--------------------------------------------------------------------------------\n"
     ]
    },
    {
     "data": {
      "text/plain": [
       "[{'test_loss': 0.46857842803001404}]"
      ]
     },
     "execution_count": 27,
     "metadata": {},
     "output_type": "execute_result"
    }
   ],
   "source": [
    "# test\n",
    "trainer.test()"
   ]
  },
  {
   "cell_type": "code",
   "execution_count": 28,
   "metadata": {
    "id": "RFh54Csjd8P4"
   },
   "outputs": [
    {
     "name": "stderr",
     "output_type": "stream",
     "text": [
      "Some weights of the model checkpoint at bert-base-cased were not used when initializing BertModel: ['cls.seq_relationship.weight', 'cls.seq_relationship.bias', 'cls.predictions.transform.LayerNorm.bias', 'cls.predictions.transform.dense.bias', 'cls.predictions.bias', 'cls.predictions.transform.dense.weight', 'cls.predictions.transform.LayerNorm.weight', 'cls.predictions.decoder.weight']\n",
      "- This IS expected if you are initializing BertModel from the checkpoint of a model trained on another task or with another architecture (e.g. initializing a BertForSequenceClassification model from a BertForPreTraining model).\n",
      "- This IS NOT expected if you are initializing BertModel from the checkpoint of a model that you expect to be exactly identical (initializing a BertForSequenceClassification model from a BertForSequenceClassification model).\n"
     ]
    }
   ],
   "source": [
    "trained_model = MBTITagger.load_from_checkpoint(\n",
    "  trainer.checkpoint_callback.best_model_path,\n",
    "  n_classes=len(label_cols)\n",
    ")\n",
    "\n",
    "torch.save(trained_model.state_dict(), './BERT/state_dict.pt')"
   ]
  },
  {
   "cell_type": "markdown",
   "metadata": {
    "id": "OcoJscQ6vv5d"
   },
   "source": [
    "# Predict"
   ]
  },
  {
   "cell_type": "code",
   "execution_count": 29,
   "metadata": {
    "id": "aL-vLhZIvvOZ"
   },
   "outputs": [],
   "source": [
    "trained_model.eval()\n",
    "trained_model.freeze()"
   ]
  },
  {
   "cell_type": "code",
   "execution_count": 30,
   "metadata": {
    "id": "tjiE9XQXv_y3"
   },
   "outputs": [
    {
     "name": "stdout",
     "output_type": "stream",
     "text": [
      "is_I: 0.6548576354980469\n",
      "is_N: 0.5303342342376709\n",
      "is_T: 0.6782060265541077\n",
      "is_J: 0.5680252909660339\n"
     ]
    }
   ],
   "source": [
    "# Test a sample\n",
    "test_comment = \"Hi, I'm Meredith and I'm an alch... good at supplier relations\"\n",
    "\n",
    "encoding = tokenizer.encode_plus(\n",
    "  test_comment,\n",
    "  add_special_tokens=True,\n",
    "  max_length=max_len,\n",
    "  return_token_type_ids=False,\n",
    "  padding=\"max_length\",\n",
    "  return_attention_mask=True,\n",
    "  return_tensors='pt',\n",
    ")\n",
    "\n",
    "_, test_prediction = trained_model(encoding[\"input_ids\"], encoding[\"attention_mask\"])\n",
    "test_prediction = test_prediction.flatten().numpy()\n",
    "\n",
    "for label, prediction in zip(label_cols, test_prediction):\n",
    "    print(f\"{label}: {prediction}\")"
   ]
  },
  {
   "cell_type": "code",
   "execution_count": 31,
   "metadata": {
    "id": "CQHPsQ1_w32O"
   },
   "outputs": [
    {
     "name": "stdout",
     "output_type": "stream",
     "text": [
      "is_I: 0.5826546549797058\n",
      "is_T: 0.6673527359962463\n"
     ]
    }
   ],
   "source": [
    "# second test example\n",
    "\n",
    "THRESHOLD = 0.5\n",
    "\n",
    "test_comment = \"You are such a loser! You'll regret everything you've done to me!\"\n",
    "encoding = tokenizer.encode_plus(\n",
    "  test_comment,\n",
    "  add_special_tokens=True,\n",
    "  max_length=max_len,\n",
    "  return_token_type_ids=False,\n",
    "  padding=\"max_length\",\n",
    "  return_attention_mask=True,\n",
    "  return_tensors='pt',\n",
    ")\n",
    "\n",
    "_, test_prediction = trained_model(encoding[\"input_ids\"], encoding[\"attention_mask\"])\n",
    "test_prediction = test_prediction.flatten().numpy()\n",
    "\n",
    "for label, prediction in zip(label_cols, test_prediction):\n",
    "    if prediction < THRESHOLD:\n",
    "        continue\n",
    "    print(f\"{label}: {prediction}\")"
   ]
  },
  {
   "cell_type": "markdown",
   "metadata": {
    "id": "wtbfRlPNy1cM"
   },
   "source": [
    "# Evaluation"
   ]
  },
  {
   "cell_type": "code",
   "execution_count": 32,
   "metadata": {
    "id": "qhQmDc1wy2nL"
   },
   "outputs": [
    {
     "data": {
      "application/vnd.jupyter.widget-view+json": {
       "model_id": "f996025efc4a408187fca38ed2036893",
       "version_major": 2,
       "version_minor": 0
      },
      "text/plain": [
       "  0%|          | 0/2603 [00:00<?, ?it/s]"
      ]
     },
     "metadata": {},
     "output_type": "display_data"
    },
    {
     "name": "stdout",
     "output_type": "stream",
     "text": [
      "Accuracy:\n",
      "tensor(0.7723)\n",
      "AUROC per tag\n",
      "is_I: 0.8191966414451599\n",
      "is_N: 0.7771749496459961\n",
      "is_T: 0.8740836381912231\n",
      "is_J: 0.6284040808677673\n"
     ]
    }
   ],
   "source": [
    "device = torch.device('cuda' if torch.cuda.is_available() else 'cpu')\n",
    "trained_model = trained_model.to(device)\n",
    "\n",
    "val_dataset = MBTIDataset(\n",
    "    label_cols,\n",
    "    val_df,\n",
    "    tokenizer,\n",
    "    max_token_len=max_len\n",
    ")\n",
    "\n",
    "predictions = []\n",
    "labels = []\n",
    "\n",
    "for item in tqdm(val_dataset):\n",
    "    _, prediction = trained_model(\n",
    "    item[\"input_ids\"].unsqueeze(dim=0).to(device), \n",
    "    item[\"attention_mask\"].unsqueeze(dim=0).to(device)\n",
    "    )\n",
    "    predictions.append(prediction.flatten())\n",
    "    labels.append(item[\"labels\"].int())\n",
    "\n",
    "predictions = torch.stack(predictions).detach().cpu()\n",
    "labels = torch.stack(labels).detach().cpu()\n",
    "\n",
    "print('Accuracy:')\n",
    "print(accuracy(predictions, labels, threshold=THRESHOLD))\n",
    "print(\"AUROC per tag\")\n",
    "for i, name in enumerate(label_cols):\n",
    "    tag_auroc = auroc(predictions[:, i], labels[:, i], pos_label=1)\n",
    "    print(f\"{name}: {tag_auroc}\")"
   ]
  },
  {
   "cell_type": "code",
   "execution_count": 35,
   "metadata": {
    "id": "QSW24Hf1za8M"
   },
   "outputs": [
    {
     "name": "stdout",
     "output_type": "stream",
     "text": [
      "              precision    recall  f1-score   support\n",
      "\n",
      "        is_I       0.88      0.86      0.87      2002\n",
      "        is_N       0.88      0.99      0.93      2244\n",
      "        is_T       0.80      0.72      0.76      1194\n",
      "        is_J       0.58      0.13      0.22      1030\n",
      "\n",
      "   micro avg       0.85      0.76      0.81      6470\n",
      "   macro avg       0.79      0.68      0.69      6470\n",
      "weighted avg       0.82      0.76      0.77      6470\n",
      " samples avg       0.86      0.79      0.80      6470\n",
      "\n",
      "Total Accuracy:  0.37264694583173263\n",
      "Accuracy for I/E:  0.8036880522474068\n",
      "Accuracy for N/S:  0.8774490971955436\n",
      "Accuracy for T/F:  0.7887053399923165\n",
      "Accuracy for J/P:  0.619285439877065\n"
     ]
    }
   ],
   "source": [
    "y_pred = predictions.numpy()\n",
    "y_true = labels.numpy()\n",
    "\n",
    "upper, lower = 1, 0\n",
    "\n",
    "y_pred = np.where(y_pred > THRESHOLD, upper, lower)\n",
    "\n",
    "print(classification_report(\n",
    "  y_true, \n",
    "  y_pred, \n",
    "  target_names=label_cols, \n",
    "  zero_division=0\n",
    "))\n",
    "\n",
    "length = y_true.shape[0]\n",
    "\n",
    "print('Total Accuracy: ', np.sum((y_pred == y_true).all(axis=1))/length)\n",
    "\n",
    "print('Accuracy for I/E: ', np.sum(y_pred[:,0] == y_true[:,0])/length)\n",
    "print('Accuracy for N/S: ', np.sum(y_pred[:,1] == y_true[:,1])/length)\n",
    "print('Accuracy for T/F: ', np.sum(y_pred[:,2] == y_true[:,2])/length)\n",
    "print('Accuracy for J/P: ', np.sum(y_pred[:,3] == y_true[:,3])/length)"
   ]
  },
  {
   "cell_type": "code",
   "execution_count": 34,
   "metadata": {
    "id": "DxEP669WqBsb"
   },
   "outputs": [
    {
     "name": "stdout",
     "output_type": "stream",
     "text": [
      "0 (array([1, 1, 1, 0]), array([1, 1, 1, 0]))\n",
      "1 (array([0, 1, 0, 1]), array([1, 1, 0, 1]))\n",
      "2 (array([0, 1, 0, 0]), array([0, 1, 0, 0]))\n",
      "3 (array([0, 1, 1, 0]), array([0, 1, 1, 0]))\n",
      "4 (array([0, 0, 1, 1]), array([1, 1, 1, 0]))\n",
      "5 (array([1, 1, 1, 1]), array([1, 1, 1, 0]))\n",
      "6 (array([0, 1, 0, 0]), array([0, 1, 0, 0]))\n",
      "7 (array([1, 1, 1, 1]), array([1, 1, 0, 0]))\n",
      "8 (array([1, 0, 1, 1]), array([0, 1, 0, 0]))\n",
      "9 (array([0, 1, 0, 0]), array([0, 1, 0, 0]))\n"
     ]
    }
   ],
   "source": [
    "for i, j in  enumerate(zip(y_true[:10], y_pred[:10])):\n",
    "    print(i, j)"
   ]
  }
 ],
 "metadata": {
  "kernelspec": {
   "display_name": "conda_pytorch",
   "language": "python",
   "name": "conda_pytorch"
  },
  "language_info": {
   "codemirror_mode": {
    "name": "ipython",
    "version": 3
   },
   "file_extension": ".py",
   "mimetype": "text/x-python",
   "name": "python",
   "nbconvert_exporter": "python",
   "pygments_lexer": "ipython3",
   "version": "3.8.12"
  }
 },
 "nbformat": 4,
 "nbformat_minor": 4
}
